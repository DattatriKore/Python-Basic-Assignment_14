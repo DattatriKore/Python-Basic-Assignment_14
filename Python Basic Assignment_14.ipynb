{
 "cells": [
  {
   "cell_type": "markdown",
   "id": "ab220231",
   "metadata": {},
   "source": [
    "Q.[1] : What does RGBA stand for?\n",
    "    \n",
    "Ans:- \n",
    "\n",
    "      RGBA stands for red, green, blue, and alpha (transparency) in the color\n",
    "      An RGBA value is a tuple of 4 integers, each ranging from 0 to 255. The four integers correspond to the amount of \n",
    "      red, green, blue, and alpha (transparency) in the color   \n",
    "\n",
    "     "
   ]
  },
  {
   "cell_type": "markdown",
   "id": "eb68d4af",
   "metadata": {},
   "source": [
    "Q.[2] : From the Pillow module, how do you get the RGBA value of any images?\n",
    "    \n",
    "Ans:- "
   ]
  },
  {
   "cell_type": "code",
   "execution_count": 1,
   "id": "672c88ee",
   "metadata": {},
   "outputs": [
    {
     "data": {
      "text/plain": [
       "(0, 128, 0, 255)"
      ]
     },
     "execution_count": 1,
     "metadata": {},
     "output_type": "execute_result"
    }
   ],
   "source": [
    "from PIL import ImageColor\n",
    "ImageColor.getcolor('red', 'RGBA')\n",
    "ImageColor.getcolor('green', 'RGBA')"
   ]
  },
  {
   "cell_type": "markdown",
   "id": "f0d611fd",
   "metadata": {},
   "source": [
    "Q.[3] : What is a box tuple, and how does it work?\n",
    "    \n",
    "Ans:- A box tuple is a tuple value of four integers: the left-edge x-coordinate, the top-edge y-coordinate, the width, and the height, respectively."
   ]
  },
  {
   "cell_type": "markdown",
   "id": "7aba6efa",
   "metadata": {},
   "source": [
    "Q.[4] : Use your image and load in notebook then, How can you find out the width and height of an Image object?\n",
    "\n",
    "Ans:- imageObj.size is a tuple of two integers, the width and the height."
   ]
  },
  {
   "cell_type": "markdown",
   "id": "a543d9c1",
   "metadata": {},
   "source": [
    "Q.[5] : What method would you call to get Image object for a 100×100 image, excluding the lower-left\n",
    "quarter of it?\n",
    "\n",
    "Ans:- imageObj.crop((0, 50, 50, 50)). Notice that you are passing a box tuple to crop(), not four separate integer arguments."
   ]
  },
  {
   "cell_type": "markdown",
   "id": "047c1e13",
   "metadata": {},
   "source": [
    "Q.[6] : After making changes to an Image object, how could you save it as an image file?\n",
    "    \n",
    "Ans:- Call the imageObj.save('new_filename.png') method of the Image object."
   ]
  },
  {
   "cell_type": "markdown",
   "id": "fc4a59d1",
   "metadata": {},
   "source": [
    "Q.[7] : What module contains Pillow’s shape-drawing code?\n",
    "    \n",
    "Ans:- The ImageDraw module contains code to draw on images"
   ]
  },
  {
   "cell_type": "markdown",
   "id": "26b2eb68",
   "metadata": {},
   "source": [
    "Q.[8] : Image objects do not have drawing methods. What kind of object does? How do you get this kind of object?\n",
    "\n",
    "Ans:- ImageDraw objects have shape-drawing methods such as point(), line(), or rectangle(). They are returned by passing the Image object to the ImageDraw.Draw() function"
   ]
  },
  {
   "cell_type": "code",
   "execution_count": null,
   "id": "84b6703c",
   "metadata": {},
   "outputs": [],
   "source": []
  }
 ],
 "metadata": {
  "kernelspec": {
   "display_name": "Python 3 (ipykernel)",
   "language": "python",
   "name": "python3"
  },
  "language_info": {
   "codemirror_mode": {
    "name": "ipython",
    "version": 3
   },
   "file_extension": ".py",
   "mimetype": "text/x-python",
   "name": "python",
   "nbconvert_exporter": "python",
   "pygments_lexer": "ipython3",
   "version": "3.9.13"
  }
 },
 "nbformat": 4,
 "nbformat_minor": 5
}
